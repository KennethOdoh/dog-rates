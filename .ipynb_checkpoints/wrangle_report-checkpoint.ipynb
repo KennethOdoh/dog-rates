{
 "cells": [
  {
   "cell_type": "markdown",
   "metadata": {},
   "source": [
    "## Reporting: wragle_report"
   ]
  },
  {
   "cell_type": "markdown",
   "metadata": {},
   "source": [
    "### Introduction"
   ]
  },
  {
   "cell_type": "markdown",
   "metadata": {},
   "source": [
    "This project demonstrates data wrangling process. Here, the WeRateDogs dog rate tweet data was gathered in different formats, cleaned and analysed."
   ]
  },
  {
   "cell_type": "markdown",
   "metadata": {},
   "source": [
    "### Gathering Data"
   ]
  },
  {
   "cell_type": "markdown",
   "metadata": {},
   "source": [
    "Three files were required for this project:\n",
    "\n",
    "`Twitter_archive_enhanced.csv`: This file contains the tweets from the WeRateDogs twitter archive. The file was made availabe to Udacity by the account administrator. This file was downloaded manually from the Udacity Website.\n",
    "\n",
    "`Img_prediction.csv`: This file contains dog image classification data. It was fetched programmatically with the `requests` library.\n",
    "\n",
    "`Tweet_json.csv`: This file was fetched programmatically from the WeRateDogs twitter account. It contains retweet  counts, favorite count and other relevant data which were not included in the `twitter archive` file."
   ]
  },
  {
   "cell_type": "markdown",
   "metadata": {},
   "source": [
    "### Accessing The Data"
   ]
  },
  {
   "cell_type": "markdown",
   "metadata": {},
   "source": [
    "### Two types of assessment were carried out on the dataframes:\n",
    "\n",
    "#### Visual assessment\n",
    "\n",
    "Data were exported to CSV and TSV files, and assessed for quality and tidiness issues using Microsoft Excel.\n",
    "\n",
    "#### Programmatic Assessment\n",
    "\n",
    "Using the  `pandas` functions such as `pd.head`, `pd.describe`, etc, the data in all three tables were assessed for quality issues. All findings were documented for the cleaning operation. \n",
    "\n",
    "#### Below are some important quality and tidiness issues observed from both assessment methods. The text in block quotes refers to the affected dataframe, while those in asterisks refer to the affected columns in those dataframes.\n",
    "\n",
    "##### Quality issues\n",
    "1. `twitter_archive`: _timestamp_, _retweeted_status_timestamp_ not in datetime format\n",
    "\n",
    "2. `twitter_archive`: wrong datatypes [_tweet_id_, _retweeted_status_id_, _retweeted_status_user_id_,\n",
    "\n",
    "3. `tweet_json`, `twitter_archive`: inconsistent column names representing the same thing [*created_at*, *timestamp*] in the two files\n",
    "4. `twitter_archive`: expanded_urls column contains multiple urls sometimes\n",
    "5. `img_predictions`: Not all are dogs according to highest confidence of the img prediction algorithm\n",
    "\n",
    "6. `img_predictions`: wrong datatypes for some columns [_tweet_id_, _img_num_ ...]\n",
    "\n",
    "7. `twitter_archive`: some posts are retweets, not original or quoted tweets\n",
    "\n",
    "8. `tweet_json`: wrong data types in some columns [_id_, ...]\n",
    "9. `twitter_archive`: _None_ used as default value in rows across 'doggo', 'floofer', 'pupper', 'puppo' columns\n",
    "10. `twitter_archive`: Some dog names are invalid\n",
    "11. `tweet_json`: Rename the _id_ column to match other dataframes\n",
    "\n",
    "\n",
    "##### Tidiness issues\n",
    "1. `twitter_archive`: dog stages in `twitter_archive` table: _doggo_, _floofer_, _pupper_ & _puppo_ formed different columns\n",
    "2. `twitter_archive`: rating splitted into `rating_numerator` and `rating_denominator`\n",
    "3. `twitter_archive`: redundant columns [_retweeted_status_user_id_, _in_reply_to_user_id_, _expanded_urls_, _source_, etc]\n",
    "4. `tweet_json`: redundant columns (only _tweet_id_, _retweet_count_, _favorite_count_ needed)"
   ]
  },
  {
   "cell_type": "markdown",
   "metadata": {},
   "source": [
    "### Cleaning Data\n",
    "\n",
    "To avoid repetitive codes, some functions were defined as described below.\n",
    "\n",
    "`query_twitter`: This function loops through the tweet ID column in the twiter archive dataframe. It obtains the JSON file for each tweet id, and\n",
    "    appends the JSON in their own line in the tweet_json.txt text file. This code takes an appreciatiable amount of time to finish executing. The function is set to `False` by default. A local version of the tweet_json text file has been proveded [here](somelinks.com). However, if for some reasons, you want to regenerate the tweet_json file, the following are required:\n",
    "- You have an approved Twitter Developer account and have set up your Twitter app (Set your app permision to Read and Write mode at the minimum.\n",
    "- Set the `query_twitter` function to `True`.\n",
    "- Have a strong internet connection\n",
    "- Wait patiently for the command to finish eexecuting. It can might take between 30 to 45 minutes to complete.\n",
    "\n",
    "`drop_cols`: This function accepts a list of dataframe columns and removes them from the dataframe. It is much faster than calling `pandas.drop` on each column.\n",
    "\n",
    "`replace_val`: This function replaces values across columns. For instance, if 'None' or '-' was used as a default value and we want to replace it with NaN instead.\n",
    "\n",
    "After the cleaning operations, the three data tables were merged together, and saved to a new dataframe `master_df`.\n",
    "The `master_df` dataframe was also exported to a CSV file `twitter_archive_master.csv`."
   ]
  },
  {
   "cell_type": "markdown",
   "metadata": {},
   "source": [
    "  ### Exploratory Analysis"
   ]
  },
  {
   "cell_type": "markdown",
   "metadata": {},
   "source": [
    "Even though the primary focus of this project was to demonstrate data wranggling processes, some basic explorations were performed following the __Question Visualization Observation__ model. As the name implies, this model begins the exploratory process by asking questions, and using suitable visuals, we can understand the chart pattern, and gain insights from our data. These insights will help us answer the question, and help us take decisions\n",
    "\n",
    "#### Questions Investigated:\n",
    "- #### Which dog stage is the most commonly rated?\n",
    "- #### Does increase in likes correlate with increase in retweets?"
   ]
  },
  {
   "cell_type": "markdown",
   "metadata": {},
   "source": [
    "## Insights and Visualizations"
   ]
  },
  {
   "cell_type": "markdown",
   "metadata": {},
   "source": [
    "From the visualizations, we were able to draw the following insights:\n",
    "\n",
    "- __Pupper__ was the most commonly rated dog stage. By this, we can say that people are most likely to post younger dogs to be rated on the platform.\n",
    "- Retweet count strongly correlates positively with favorite count (+ 0.93)\n",
    "\n",
    "<img src='data:image/png;base64,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'>\n",
    "\n",
    "- The correlation still holds, regardless of dog stage. This means that dogs that get high likes are most likely to get high retweets as well."
   ]
  },
  {
   "cell_type": "markdown",
   "metadata": {},
   "source": [
    "## Limitations\n",
    "\n",
    "The accuracy of this analysis, among other factors, relies greatly on the accuracy of the image prediction algorithm used. Only the highest confidence of the image algorithm was considered, thus, there were some actual dog images which the algorithm's highest confidence failed to identify as dog. Such data were eventually not considered in this analysis.\n",
    "Also, there were many missing data, notably in the dog stage column. Thus, the accuracy of analysis related to frequency distributions could have been affected negatively."
   ]
  }
 ],
 "metadata": {
  "kernelspec": {
   "display_name": "Python 3 (ipykernel)",
   "language": "python",
   "name": "python3"
  },
  "language_info": {
   "codemirror_mode": {
    "name": "ipython",
    "version": 3
   },
   "file_extension": ".py",
   "mimetype": "text/x-python",
   "name": "python",
   "nbconvert_exporter": "python",
   "pygments_lexer": "ipython3",
   "version": "3.9.12"
  }
 },
 "nbformat": 4,
 "nbformat_minor": 2
}
